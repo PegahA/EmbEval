{
 "cells": [
  {
   "cell_type": "code",
   "execution_count": 1,
   "metadata": {},
   "outputs": [
    {
     "name": "stdout",
     "output_type": "stream",
     "text": [
      "  EXISTS: gene2go\n",
      "HMS:0:00:03.889956 340,574 annotations, 20,692 genes, 18,417 GOs, 1 taxids READ: gene2go \n"
     ]
    }
   ],
   "source": [
    "import numpy as np\n",
    "import pandas as pd\n",
    "import evaluate\n",
    "import utils"
   ]
  },
  {
   "cell_type": "code",
   "execution_count": 2,
   "metadata": {},
   "outputs": [],
   "source": [
    "pegah_genes = pd.read_csv('./data/pegah_genes.csv')\n",
    "pegah_genes = pegah_genes.loc[:, 'gene_symbol']"
   ]
  },
  {
   "cell_type": "code",
   "execution_count": 3,
   "metadata": {},
   "outputs": [
    {
     "data": {
      "text/plain": [
       "0        CCKAR\n",
       "1         DVL1\n",
       "2        SORL1\n",
       "3        PAIP1\n",
       "4        OPHN1\n",
       "         ...  \n",
       "999      TRPC4\n",
       "1000     KCNA2\n",
       "1001    SYNPO2\n",
       "1002      LRP2\n",
       "1003     STX17\n",
       "Name: gene_symbol, Length: 1004, dtype: object"
      ]
     },
     "execution_count": 3,
     "metadata": {},
     "output_type": "execute_result"
    }
   ],
   "source": [
    "pegah_genes"
   ]
  },
  {
   "cell_type": "code",
   "execution_count": 5,
   "metadata": {},
   "outputs": [],
   "source": [
    "emb_df = pd.read_table('./data/adult_brainarea_vs_genes_exp_reannotator_donors_10021-9861-14380-15697-15496-12876.tsv', index_col='gene_symbol')"
   ]
  },
  {
   "cell_type": "code",
   "execution_count": 6,
   "metadata": {},
   "outputs": [],
   "source": [
    "# filter embedding using Pegah's gene list\n",
    "emb_df = emb_df[emb_df.index.isin(pegah_genes)]"
   ]
  },
  {
   "cell_type": "code",
   "execution_count": 7,
   "metadata": {},
   "outputs": [
    {
     "name": "stdout",
     "output_type": "stream",
     "text": [
      "There are 5 GO groups that will be evaluated.\n",
      "----------------------------------------------------------------------------------------------------\n",
      "GO:0005829\n",
      "Fold:0 F1:0.37037037037037035 AUC:0.5950360082304527\n",
      "Fold:1 F1:0.2524271844660194 AUC:0.49404299404299395\n",
      "Fold:2 F1:0.3773584905660377 AUC:0.635975135975136\n",
      "Fold:3 F1:0.33333333333333337 AUC:0.6222481222481222\n",
      "Fold:4 F1:0.37288135593220334 AUC:0.605024605024605\n",
      "----------------------------------------------------------------------------------------------------\n",
      "GO:0005634\n",
      "Fold:0 F1:0.21052631578947367 AUC:0.5724716482833618\n",
      "Fold:1 F1:0.3132530120481927 AUC:0.5987261146496815\n",
      "Fold:2 F1:0.27848101265822783 AUC:0.567515923566879\n",
      "Fold:3 F1:0.19277108433734938 AUC:0.589968152866242\n",
      "Fold:4 F1:0.32941176470588235 AUC:0.5845841150719199\n",
      "----------------------------------------------------------------------------------------------------\n",
      "GO:0016021\n",
      "Fold:0 F1:0.2708333333333333 AUC:0.5467032967032966\n",
      "Fold:1 F1:0.31578947368421056 AUC:0.562826420890937\n",
      "Fold:2 F1:0.22727272727272724 AUC:0.5367127496159754\n",
      "Fold:3 F1:0.26666666666666666 AUC:0.5115207373271888\n",
      "Fold:4 F1:0.3855421686746988 AUC:0.6161290322580645\n",
      "----------------------------------------------------------------------------------------------------\n",
      "GO:0005737\n",
      "Fold:0 F1:0.23300970873786409 AUC:0.5443102352193261\n",
      "Fold:1 F1:0.24489795918367346 AUC:0.5154105154105154\n",
      "Fold:2 F1:0.3225806451612903 AUC:0.5945350945350946\n",
      "Fold:3 F1:0.27999999999999997 AUC:0.5521126760563381\n",
      "Fold:4 F1:0.3793103448275862 AUC:0.5814340588988476\n",
      "----------------------------------------------------------------------------------------------------\n",
      "GO:0005887\n",
      "Fold:0 F1:0.3302752293577982 AUC:0.5735221674876848\n",
      "Fold:1 F1:0.396039603960396 AUC:0.6654135338345865\n",
      "Fold:2 F1:0.39622641509433965 AUC:0.6110275689223058\n",
      "Fold:3 F1:0.44067796610169496 AUC:0.6157281071694368\n",
      "Fold:4 F1:0.3883495145631068 AUC:0.5688414785413048\n",
      "CPU times: user 35.3 s, sys: 780 ms, total: 36 s\n",
      "Wall time: 13.8 s\n"
     ]
    }
   ],
   "source": [
    "%%time\n",
    "GO_evals = evaluate.perform_GOclass_eval(emb_df, min_GO_size=200, max_GO_size=300)"
   ]
  },
  {
   "cell_type": "code",
   "execution_count": null,
   "metadata": {},
   "outputs": [],
   "source": []
  }
 ],
 "metadata": {
  "environment": {
   "name": "pytorch-gpu.1-4.m46",
   "type": "gcloud",
   "uri": "gcr.io/deeplearning-platform-release/pytorch-gpu.1-4:m46"
  },
  "kernelspec": {
   "display_name": "Python 3",
   "language": "python",
   "name": "python3"
  },
  "language_info": {
   "codemirror_mode": {
    "name": "ipython",
    "version": 3
   },
   "file_extension": ".py",
   "mimetype": "text/x-python",
   "name": "python",
   "nbconvert_exporter": "python",
   "pygments_lexer": "ipython3",
   "version": "3.7.6"
  }
 },
 "nbformat": 4,
 "nbformat_minor": 4
}
